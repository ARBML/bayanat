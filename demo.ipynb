{
 "metadata": {
  "language_info": {
   "codemirror_mode": {
    "name": "ipython",
    "version": 3
   },
   "file_extension": ".py",
   "mimetype": "text/x-python",
   "name": "python",
   "nbconvert_exporter": "python",
   "pygments_lexer": "ipython3",
   "version": "3.8.2-final"
  },
  "orig_nbformat": 2,
  "kernelspec": {
   "name": "python3",
   "display_name": "Python 3",
   "language": "python"
  }
 },
 "nbformat": 4,
 "nbformat_minor": 2,
 "cells": [
  {
   "source": [
    "!pip3 install git+https://github.com/ARBML/bayanat"
   ],
   "cell_type": "code",
   "metadata": {},
   "execution_count": 1,
   "outputs": [
    {
     "output_type": "stream",
     "name": "stdout",
     "text": [
      "Processing /home/zaid/bayanat\n",
      "Requirement already satisfied: python-bidi in /home/zaid/.local/lib/python3.8/site-packages (from bayanat==0.0.1) (0.4.2)\n",
      "Requirement already satisfied: arabic-reshaper in /home/zaid/.local/lib/python3.8/site-packages (from bayanat==0.0.1) (2.1.1)\n",
      "Requirement already satisfied: gensim in /home/zaid/.local/lib/python3.8/site-packages (from bayanat==0.0.1) (3.8.3)\n",
      "Requirement already satisfied: six in /usr/lib/python3/dist-packages (from python-bidi->bayanat==0.0.1) (1.14.0)\n",
      "Requirement already satisfied: future in /home/zaid/.local/lib/python3.8/site-packages (from arabic-reshaper->bayanat==0.0.1) (0.18.2)\n",
      "Requirement already satisfied: setuptools in /home/zaid/.local/lib/python3.8/site-packages (from arabic-reshaper->bayanat==0.0.1) (49.6.0)\n",
      "Requirement already satisfied: numpy>=1.11.3 in /home/zaid/.local/lib/python3.8/site-packages (from gensim->bayanat==0.0.1) (1.19.0)\n",
      "Requirement already satisfied: smart-open>=1.8.1 in /home/zaid/.local/lib/python3.8/site-packages (from gensim->bayanat==0.0.1) (4.0.1)\n",
      "Requirement already satisfied: scipy>=0.18.1 in /home/zaid/.local/lib/python3.8/site-packages (from gensim->bayanat==0.0.1) (1.4.1)\n",
      "Building wheels for collected packages: bayanat\n",
      "  Building wheel for bayanat (setup.py) ... \u001b[?25ldone\n",
      "\u001b[?25h  Created wheel for bayanat: filename=bayanat-0.0.1-py3-none-any.whl size=5414 sha256=64268dcd4671c7a9114c2f75babe58c10e9dd0181105b647db11c7dc337500ec\n",
      "  Stored in directory: /tmp/pip-ephem-wheel-cache-d7ycv7pn/wheels/ca/02/72/83b014f805aaef83c3c963465dead3ec674baa050ffabd1471\n",
      "Successfully built bayanat\n",
      "Installing collected packages: bayanat\n",
      "  Attempting uninstall: bayanat\n",
      "    Found existing installation: bayanat 0.0.1\n",
      "    Uninstalling bayanat-0.0.1:\n",
      "      Successfully uninstalled bayanat-0.0.1\n",
      "Successfully installed bayanat-0.0.1\n"
     ]
    }
   ]
  },
  {
   "cell_type": "code",
   "execution_count": 2,
   "metadata": {},
   "outputs": [
    {
     "output_type": "stream",
     "name": "stdout",
     "text": [
      "Will not apply HSTS. The HSTS database must be a regular and non-world-writable file.\n",
      "ERROR: could not open HSTS store at '/home/zaid/.wget-hsts'. HSTS will be disabled.\n",
      "--2020-12-22 11:28:52--  https://raw.githubusercontent.com/ARBML/bayanat/main/sample.txt\n",
      "Resolving raw.githubusercontent.com (raw.githubusercontent.com)... 151.101.36.133\n",
      "Connecting to raw.githubusercontent.com (raw.githubusercontent.com)|151.101.36.133|:443... connected.\n",
      "HTTP request sent, awaiting response... 200 OK\n",
      "Length: 262144 (256K) [text/plain]\n",
      "Saving to: ‘sample.txt’\n",
      "\n",
      "sample.txt          100%[===================>] 256.00K   578KB/s    in 0.4s    \n",
      "\n",
      "2020-12-22 11:28:53 (578 KB/s) - ‘sample.txt’ saved [262144/262144]\n",
      "\n"
     ]
    }
   ],
   "source": [
    "!wget https://raw.githubusercontent.com/ARBML/bayanat/main/sample.txt"
   ]
  },
  {
   "source": [
    "from bayanat import Bayanat"
   ],
   "cell_type": "code",
   "metadata": {},
   "execution_count": 2,
   "outputs": []
  },
  {
   "cell_type": "code",
   "execution_count": 3,
   "metadata": {},
   "outputs": [],
   "source": [
    "data = Bayanat('sample.txt')"
   ]
  },
  {
   "cell_type": "code",
   "execution_count": null,
   "metadata": {},
   "outputs": [],
   "source": [
    "data.plot_embeddings(words=['عادل_امام','احمد_السقا', 'رئيس', 'جامعه', 'مدرسة'])"
   ]
  },
  {
   "cell_type": "code",
   "execution_count": 4,
   "metadata": {},
   "outputs": [
    {
     "output_type": "execute_result",
     "data": {
      "text/plain": [
       "'حموا حماهم ومسا بيتهم في باذخات الشرف العالي بين تباعات وتقتال أي بين ما يتتبعهم من العار أن يفعلوا وبين المقاتلة أي يختارون الموت على العار ، وباذخات عاليات . المعنى : يمدح بني مازن بالبطولة ويصفهم بأنهم يختارون الموت على ما فيه العار ، وأنهم حفظوا بلادهم من العدو وعلوا في الشرف . ( 233 ) وقال سوار بن المضرب السعدي : ( الثاني من الكامل والقافية من المتواتر ) أجنوب إنك لو رأيت فوارسي بالسيف حين تبادر الأشرار سعة الطريق مخافة أن يؤسروا . . . والخيل تتبعهم وهم فرار يدعون سوارا إذا احمر القنا . . . ولكل يوم كريهة سوار جنوب : اسم امرأة ، والسيف : شاطئ البحر ، وإذا احمر القنا يعني إذا اشتدت الحرب وكثر الطعن . المعنى : يصف شجاعته'"
      ]
     },
     "metadata": {},
     "execution_count": 4
    }
   ],
   "source": [
    "data.sample_random_sentence()"
   ]
  },
  {
   "cell_type": "code",
   "execution_count": 5,
   "metadata": {},
   "outputs": [
    {
     "output_type": "execute_result",
     "data": {
      "text/plain": [
       "[('المستأخرون', 10),\n",
       " ('والاستهلال', 10),\n",
       " ('بالاستسقاء', 10),\n",
       " ('والتنابلة', 9),\n",
       " ('بمعاودتها', 9),\n",
       " ('المتأخرون', 9),\n",
       " ('ولمؤتسيان', 9),\n",
       " ('والمتقاعس', 9),\n",
       " ('والاقتصار', 9),\n",
       " ('والاشتغال', 9)]"
      ]
     },
     "metadata": {},
     "execution_count": 5
    }
   ],
   "source": [
    "data.get_top_longest_words(n = 10)"
   ]
  },
  {
   "cell_type": "code",
   "execution_count": 6,
   "metadata": {},
   "outputs": [
    {
     "output_type": "execute_result",
     "data": {
      "text/plain": [
       "[('،', 1806),\n",
       " ('من', 933),\n",
       " ('.', 909),\n",
       " (':', 847),\n",
       " ('في', 404),\n",
       " ('أي', 393),\n",
       " (')', 328),\n",
       " ('(', 327),\n",
       " ('على', 280),\n",
       " ('المعنى', 237)]"
      ]
     },
     "metadata": {},
     "execution_count": 6
    }
   ],
   "source": [
    "data.get_most_freq_words(n = 10)"
   ]
  },
  {
   "cell_type": "code",
   "execution_count": 7,
   "metadata": {},
   "outputs": [
    {
     "output_type": "stream",
     "name": "stdout",
     "text": [
      "Number of words  30955\nNumber of chars  148102\n"
     ]
    }
   ],
   "source": [
    "data.get_stats()"
   ]
  },
  {
   "cell_type": "code",
   "execution_count": 8,
   "metadata": {},
   "outputs": [
    {
     "output_type": "execute_result",
     "data": {
      "text/plain": [
       "array(['الكؤود', 'مؤاتاته', 'يؤذه', 'الفؤاد', 'فؤادها', 'امرؤ', 'مزؤود',\n",
       "       'مؤدب', 'المؤصد', 'مزؤود'], dtype='<U9')"
      ]
     },
     "metadata": {},
     "execution_count": 8
    }
   ],
   "source": [
    "data.sample_words_by_char('ؤ')"
   ]
  }
 ]
}